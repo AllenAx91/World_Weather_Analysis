{
 "cells": [
  {
   "cell_type": "code",
   "execution_count": 52,
   "id": "db28c37e",
   "metadata": {},
   "outputs": [],
   "source": [
    "# Import the dependencies.\n",
    "import pandas as pd\n",
    "import gmaps\n",
    "import requests\n",
    "# Import the API key.\n",
    "from config import g_key"
   ]
  },
  {
   "cell_type": "code",
   "execution_count": 53,
   "id": "f090906d",
   "metadata": {},
   "outputs": [
    {
     "data": {
      "text/html": [
       "<div>\n",
       "<style scoped>\n",
       "    .dataframe tbody tr th:only-of-type {\n",
       "        vertical-align: middle;\n",
       "    }\n",
       "\n",
       "    .dataframe tbody tr th {\n",
       "        vertical-align: top;\n",
       "    }\n",
       "\n",
       "    .dataframe thead th {\n",
       "        text-align: right;\n",
       "    }\n",
       "</style>\n",
       "<table border=\"1\" class=\"dataframe\">\n",
       "  <thead>\n",
       "    <tr style=\"text-align: right;\">\n",
       "      <th></th>\n",
       "      <th>City_ID</th>\n",
       "      <th>City</th>\n",
       "      <th>Cloudiness</th>\n",
       "      <th>Country</th>\n",
       "      <th>Date</th>\n",
       "      <th>Humidity</th>\n",
       "      <th>Lat</th>\n",
       "      <th>Lng</th>\n",
       "      <th>Max Temp</th>\n",
       "      <th>Wind Speed</th>\n",
       "    </tr>\n",
       "  </thead>\n",
       "  <tbody>\n",
       "    <tr>\n",
       "      <th>0</th>\n",
       "      <td>0</td>\n",
       "      <td>Lumeje</td>\n",
       "      <td>6</td>\n",
       "      <td>AO</td>\n",
       "      <td>2022-06-11 14:29:27</td>\n",
       "      <td>24</td>\n",
       "      <td>-11.5500</td>\n",
       "      <td>20.7833</td>\n",
       "      <td>79.38</td>\n",
       "      <td>6.35</td>\n",
       "    </tr>\n",
       "    <tr>\n",
       "      <th>1</th>\n",
       "      <td>1</td>\n",
       "      <td>Preobrazheniye</td>\n",
       "      <td>9</td>\n",
       "      <td>RU</td>\n",
       "      <td>2022-06-11 14:29:27</td>\n",
       "      <td>93</td>\n",
       "      <td>42.9019</td>\n",
       "      <td>133.9064</td>\n",
       "      <td>51.48</td>\n",
       "      <td>1.61</td>\n",
       "    </tr>\n",
       "    <tr>\n",
       "      <th>2</th>\n",
       "      <td>2</td>\n",
       "      <td>Mathbaria</td>\n",
       "      <td>92</td>\n",
       "      <td>BD</td>\n",
       "      <td>2022-06-11 14:29:28</td>\n",
       "      <td>85</td>\n",
       "      <td>22.2876</td>\n",
       "      <td>89.9593</td>\n",
       "      <td>83.91</td>\n",
       "      <td>11.12</td>\n",
       "    </tr>\n",
       "    <tr>\n",
       "      <th>3</th>\n",
       "      <td>3</td>\n",
       "      <td>Carnarvon</td>\n",
       "      <td>2</td>\n",
       "      <td>AU</td>\n",
       "      <td>2022-06-11 14:29:28</td>\n",
       "      <td>69</td>\n",
       "      <td>-24.8667</td>\n",
       "      <td>113.6333</td>\n",
       "      <td>70.90</td>\n",
       "      <td>9.64</td>\n",
       "    </tr>\n",
       "    <tr>\n",
       "      <th>4</th>\n",
       "      <td>4</td>\n",
       "      <td>Kupang</td>\n",
       "      <td>100</td>\n",
       "      <td>ID</td>\n",
       "      <td>2022-06-11 14:29:28</td>\n",
       "      <td>72</td>\n",
       "      <td>-10.1667</td>\n",
       "      <td>123.5833</td>\n",
       "      <td>78.01</td>\n",
       "      <td>14.52</td>\n",
       "    </tr>\n",
       "  </tbody>\n",
       "</table>\n",
       "</div>"
      ],
      "text/plain": [
       "   City_ID            City  Cloudiness Country                 Date  Humidity  \\\n",
       "0        0          Lumeje           6      AO  2022-06-11 14:29:27        24   \n",
       "1        1  Preobrazheniye           9      RU  2022-06-11 14:29:27        93   \n",
       "2        2       Mathbaria          92      BD  2022-06-11 14:29:28        85   \n",
       "3        3       Carnarvon           2      AU  2022-06-11 14:29:28        69   \n",
       "4        4          Kupang         100      ID  2022-06-11 14:29:28        72   \n",
       "\n",
       "       Lat       Lng  Max Temp  Wind Speed  \n",
       "0 -11.5500   20.7833     79.38        6.35  \n",
       "1  42.9019  133.9064     51.48        1.61  \n",
       "2  22.2876   89.9593     83.91       11.12  \n",
       "3 -24.8667  113.6333     70.90        9.64  \n",
       "4 -10.1667  123.5833     78.01       14.52  "
      ]
     },
     "execution_count": 53,
     "metadata": {},
     "output_type": "execute_result"
    }
   ],
   "source": [
    "# Store the CSV you saved created in part one into a DataFrame.\n",
    "city_data_df = pd.read_csv(\"weather_data/cities.csv\")\n",
    "city_data_df.head()"
   ]
  },
  {
   "cell_type": "code",
   "execution_count": 54,
   "id": "13c973e8",
   "metadata": {},
   "outputs": [
    {
     "data": {
      "text/plain": [
       "City_ID         int64\n",
       "City           object\n",
       "Cloudiness      int64\n",
       "Country        object\n",
       "Date           object\n",
       "Humidity        int64\n",
       "Lat           float64\n",
       "Lng           float64\n",
       "Max Temp      float64\n",
       "Wind Speed    float64\n",
       "dtype: object"
      ]
     },
     "execution_count": 54,
     "metadata": {},
     "output_type": "execute_result"
    }
   ],
   "source": [
    "city_data_df.dtypes"
   ]
  },
  {
   "cell_type": "code",
   "execution_count": 55,
   "id": "6ec92a6f",
   "metadata": {},
   "outputs": [],
   "source": [
    "# Configure gmaps to use your Google API key.\n",
    "gmaps.configure(api_key=g_key)"
   ]
  },
  {
   "cell_type": "code",
   "execution_count": 56,
   "id": "2a526112",
   "metadata": {},
   "outputs": [
    {
     "data": {
      "application/vnd.jupyter.widget-view+json": {
       "model_id": "b2c8600c8bc14f41af66ce5f2efa3ad2",
       "version_major": 2,
       "version_minor": 0
      },
      "text/plain": [
       "Figure(layout=FigureLayout(height='420px'))"
      ]
     },
     "metadata": {},
     "output_type": "display_data"
    }
   ],
   "source": [
    "# Heatmap of temperature\n",
    "# Get the latitude and longitude.\n",
    "locations = city_data_df[[\"Lat\", \"Lng\"]]\n",
    "# Get the maximum temperature.\n",
    "max_temp = city_data_df[\"Max Temp\"]\n",
    "# Assign the figure variable.\n",
    "fig = gmaps.figure()\n",
    "# Assign the heatmap variable.\n",
    "heat_layer = gmaps.heatmap_layer(locations, weights=max_temp)\n",
    "# Add the heatmap layer.\n",
    "fig.add_layer(heat_layer)\n",
    "# Call the figure to plot the data.\n",
    "fig"
   ]
  },
  {
   "cell_type": "code",
   "execution_count": 57,
   "id": "f7132b26",
   "metadata": {},
   "outputs": [],
   "source": [
    "# Get the maximum temperature.\n",
    "max_temp = city_data_df[\"Max Temp\"]\n",
    "temps = []\n",
    "for temp in max_temp:\n",
    "    temps.append(max(temp, 0))"
   ]
  },
  {
   "cell_type": "code",
   "execution_count": 58,
   "id": "ba6acf9b",
   "metadata": {},
   "outputs": [
    {
     "data": {
      "application/vnd.jupyter.widget-view+json": {
       "model_id": "8c0825d62e0f4a599d80567ed50b476a",
       "version_major": 2,
       "version_minor": 0
      },
      "text/plain": [
       "Figure(layout=FigureLayout(height='420px'))"
      ]
     },
     "metadata": {},
     "output_type": "display_data"
    }
   ],
   "source": [
    "# Heatmap of temperature\n",
    "# Get the latitude and longitude.\n",
    "locations = city_data_df[[\"Lat\", \"Lng\"]]\n",
    "# Get the maximum temperature.\n",
    "max_temp = city_data_df[\"Max Temp\"]\n",
    "# Assign the figure variable.\n",
    "fig = gmaps.figure(center=(30.0, 31.0), zoom_level=1.5)\n",
    "# Assign the heatmap variable.\n",
    "heat_layer = gmaps.heatmap_layer(locations, weights=temps)\n",
    "heat_layer = gmaps.heatmap_layer(locations, weights=[max(temp, 0) for temp in max_temp])\n",
    "# Add the heatmap layer.\n",
    "fig.add_layer(heat_layer)\n",
    "# Call the figure to plot the data.\n",
    "fig"
   ]
  },
  {
   "cell_type": "code",
   "execution_count": 59,
   "id": "28811b20",
   "metadata": {},
   "outputs": [
    {
     "data": {
      "application/vnd.jupyter.widget-view+json": {
       "model_id": "6fdbf36fd8c24836894453a21838c830",
       "version_major": 2,
       "version_minor": 0
      },
      "text/plain": [
       "Figure(layout=FigureLayout(height='420px'))"
      ]
     },
     "metadata": {},
     "output_type": "display_data"
    }
   ],
   "source": [
    "# Heatmap of temperature\n",
    "# Get the latitude and longitude.\n",
    "locations = city_data_df[[\"Lat\", \"Lng\"]]\n",
    "# Get the maximum temperature.\n",
    "max_temp = city_data_df[\"Max Temp\"]\n",
    "# Assign the figure variable.\n",
    "fig = gmaps.figure(center=(30.0, 31.0), zoom_level=1.5)\n",
    "# Assign the heatmap variable.\n",
    "heat_layer = gmaps.heatmap_layer(locations, weights=[max(temp, 0) for temp in max_temp])\n",
    "# Add the heatmap layer.\n",
    "fig.add_layer(heat_layer)\n",
    "# Call the figure to plot the data.\n",
    "fig"
   ]
  },
  {
   "cell_type": "code",
   "execution_count": 60,
   "id": "2386578a",
   "metadata": {},
   "outputs": [
    {
     "data": {
      "application/vnd.jupyter.widget-view+json": {
       "model_id": "5f35c3ba5cc1421c9391215627fa83e8",
       "version_major": 2,
       "version_minor": 0
      },
      "text/plain": [
       "Figure(layout=FigureLayout(height='420px'))"
      ]
     },
     "metadata": {},
     "output_type": "display_data"
    }
   ],
   "source": [
    "# Heatmap of temperature\n",
    "# Get the latitude and longitude.\n",
    "locations = city_data_df[[\"Lat\", \"Lng\"]]\n",
    "# Get the maximum temperature.\n",
    "max_temp = city_data_df[\"Max Temp\"]\n",
    "# Assign the figure variable.\n",
    "fig = gmaps.figure(center=(30.0, 31.0), zoom_level=1.5)\n",
    "# Assign the heatmap variable.\n",
    "heat_layer = gmaps.heatmap_layer(locations, weights=[max(temp, 0) for temp in max_temp], dissipating=False, max_intensity=300, point_radius=4)\n",
    "# Add the heatmap layer.\n",
    "fig.add_layer(heat_layer)\n",
    "# Call the figure to plot the data.\n",
    "fig"
   ]
  },
  {
   "cell_type": "code",
   "execution_count": 61,
   "id": "9433e1b0",
   "metadata": {},
   "outputs": [
    {
     "data": {
      "application/vnd.jupyter.widget-view+json": {
       "model_id": "80572491c78d4cafb8d6f997003ba5d5",
       "version_major": 2,
       "version_minor": 0
      },
      "text/plain": [
       "Figure(layout=FigureLayout(height='420px'))"
      ]
     },
     "metadata": {},
     "output_type": "display_data"
    }
   ],
   "source": [
    "# Heatmap of percent humidity\n",
    "locations = city_data_df[[\"Lat\", \"Lng\"]]\n",
    "humidity = city_data_df[\"Humidity\"]\n",
    "fig = gmaps.figure(center=(30.0, 31.0), zoom_level=1.5)\n",
    "heat_layer = gmaps.heatmap_layer(locations, weights=humidity, dissipating=False, max_intensity=300, point_radius=4)\n",
    "\n",
    "fig.add_layer(heat_layer)\n",
    "# Call the figure to plot the data.\n",
    "fig"
   ]
  },
  {
   "cell_type": "code",
   "execution_count": 62,
   "id": "918f4239",
   "metadata": {},
   "outputs": [
    {
     "data": {
      "application/vnd.jupyter.widget-view+json": {
       "model_id": "2e0fbb6393324a4290bdf9285662bf6b",
       "version_major": 2,
       "version_minor": 0
      },
      "text/plain": [
       "Figure(layout=FigureLayout(height='420px'))"
      ]
     },
     "metadata": {},
     "output_type": "display_data"
    }
   ],
   "source": [
    "# Heatmap of percent cloudiness\n",
    "locations = city_data_df[[\"Lat\", \"Lng\"]]\n",
    "clouds = city_data_df[\"Cloudiness\"]\n",
    "fig = gmaps.figure(center=(30.0, 31.0), zoom_level=1.5)\n",
    "heat_layer = gmaps.heatmap_layer(locations, weights=clouds, dissipating=False, max_intensity=300, point_radius=4)\n",
    "\n",
    "fig.add_layer(heat_layer)\n",
    "# Call the figure to plot the data.\n",
    "fig"
   ]
  },
  {
   "cell_type": "code",
   "execution_count": 63,
   "id": "6f36fe78",
   "metadata": {},
   "outputs": [
    {
     "data": {
      "application/vnd.jupyter.widget-view+json": {
       "model_id": "cc8da3cca1eb4ee599cd70776e15e729",
       "version_major": 2,
       "version_minor": 0
      },
      "text/plain": [
       "Figure(layout=FigureLayout(height='420px'))"
      ]
     },
     "metadata": {},
     "output_type": "display_data"
    }
   ],
   "source": [
    "# Heatmap of percent humidity\n",
    "locations = city_data_df[[\"Lat\", \"Lng\"]]\n",
    "wind = city_data_df[\"Wind Speed\"]\n",
    "fig = gmaps.figure(center=(30.0, 31.0), zoom_level=1.5)\n",
    "heat_layer = gmaps.heatmap_layer(locations, weights=wind, dissipating=False, max_intensity=300, point_radius=4)\n",
    "\n",
    "fig.add_layer(heat_layer)\n",
    "# Call the figure to plot the data.\n",
    "fig"
   ]
  },
  {
   "cell_type": "code",
   "execution_count": 64,
   "id": "ac5a9bff",
   "metadata": {},
   "outputs": [
    {
     "name": "stdout",
     "output_type": "stream",
     "text": [
      "What is the minimum temperature you would like for your trip? 75\n",
      "What is the maximum temperature you would like for your trip? 90\n"
     ]
    }
   ],
   "source": [
    "# Ask the customer to add a minimum and maximum temperature value.\n",
    "min_temp = float(input(\"What is the minimum temperature you would like for your trip? \"))\n",
    "max_temp = float(input(\"What is the maximum temperature you would like for your trip? \"))"
   ]
  },
  {
   "cell_type": "code",
   "execution_count": 65,
   "id": "9be731a1",
   "metadata": {},
   "outputs": [
    {
     "data": {
      "text/html": [
       "<div>\n",
       "<style scoped>\n",
       "    .dataframe tbody tr th:only-of-type {\n",
       "        vertical-align: middle;\n",
       "    }\n",
       "\n",
       "    .dataframe tbody tr th {\n",
       "        vertical-align: top;\n",
       "    }\n",
       "\n",
       "    .dataframe thead th {\n",
       "        text-align: right;\n",
       "    }\n",
       "</style>\n",
       "<table border=\"1\" class=\"dataframe\">\n",
       "  <thead>\n",
       "    <tr style=\"text-align: right;\">\n",
       "      <th></th>\n",
       "      <th>City_ID</th>\n",
       "      <th>City</th>\n",
       "      <th>Cloudiness</th>\n",
       "      <th>Country</th>\n",
       "      <th>Date</th>\n",
       "      <th>Humidity</th>\n",
       "      <th>Lat</th>\n",
       "      <th>Lng</th>\n",
       "      <th>Max Temp</th>\n",
       "      <th>Wind Speed</th>\n",
       "    </tr>\n",
       "  </thead>\n",
       "  <tbody>\n",
       "    <tr>\n",
       "      <th>0</th>\n",
       "      <td>0</td>\n",
       "      <td>Lumeje</td>\n",
       "      <td>6</td>\n",
       "      <td>AO</td>\n",
       "      <td>2022-06-11 14:29:27</td>\n",
       "      <td>24</td>\n",
       "      <td>-11.5500</td>\n",
       "      <td>20.7833</td>\n",
       "      <td>79.38</td>\n",
       "      <td>6.35</td>\n",
       "    </tr>\n",
       "    <tr>\n",
       "      <th>2</th>\n",
       "      <td>2</td>\n",
       "      <td>Mathbaria</td>\n",
       "      <td>92</td>\n",
       "      <td>BD</td>\n",
       "      <td>2022-06-11 14:29:28</td>\n",
       "      <td>85</td>\n",
       "      <td>22.2876</td>\n",
       "      <td>89.9593</td>\n",
       "      <td>83.91</td>\n",
       "      <td>11.12</td>\n",
       "    </tr>\n",
       "    <tr>\n",
       "      <th>4</th>\n",
       "      <td>4</td>\n",
       "      <td>Kupang</td>\n",
       "      <td>100</td>\n",
       "      <td>ID</td>\n",
       "      <td>2022-06-11 14:29:28</td>\n",
       "      <td>72</td>\n",
       "      <td>-10.1667</td>\n",
       "      <td>123.5833</td>\n",
       "      <td>78.01</td>\n",
       "      <td>14.52</td>\n",
       "    </tr>\n",
       "    <tr>\n",
       "      <th>6</th>\n",
       "      <td>6</td>\n",
       "      <td>San Patricio</td>\n",
       "      <td>5</td>\n",
       "      <td>US</td>\n",
       "      <td>2022-06-11 14:27:14</td>\n",
       "      <td>64</td>\n",
       "      <td>28.0170</td>\n",
       "      <td>-97.5169</td>\n",
       "      <td>87.84</td>\n",
       "      <td>13.06</td>\n",
       "    </tr>\n",
       "    <tr>\n",
       "      <th>12</th>\n",
       "      <td>12</td>\n",
       "      <td>Quebradillas</td>\n",
       "      <td>86</td>\n",
       "      <td>PR</td>\n",
       "      <td>2022-06-11 14:29:31</td>\n",
       "      <td>79</td>\n",
       "      <td>18.4738</td>\n",
       "      <td>-66.9385</td>\n",
       "      <td>88.23</td>\n",
       "      <td>10.00</td>\n",
       "    </tr>\n",
       "    <tr>\n",
       "      <th>13</th>\n",
       "      <td>13</td>\n",
       "      <td>Vaini</td>\n",
       "      <td>75</td>\n",
       "      <td>TO</td>\n",
       "      <td>2022-06-11 14:26:13</td>\n",
       "      <td>88</td>\n",
       "      <td>-21.2000</td>\n",
       "      <td>-175.2000</td>\n",
       "      <td>75.36</td>\n",
       "      <td>5.75</td>\n",
       "    </tr>\n",
       "    <tr>\n",
       "      <th>15</th>\n",
       "      <td>15</td>\n",
       "      <td>Cockburn Town</td>\n",
       "      <td>40</td>\n",
       "      <td>TC</td>\n",
       "      <td>2022-06-11 14:29:31</td>\n",
       "      <td>70</td>\n",
       "      <td>21.4612</td>\n",
       "      <td>-71.1419</td>\n",
       "      <td>84.16</td>\n",
       "      <td>16.11</td>\n",
       "    </tr>\n",
       "    <tr>\n",
       "      <th>21</th>\n",
       "      <td>21</td>\n",
       "      <td>Beyneu</td>\n",
       "      <td>1</td>\n",
       "      <td>KZ</td>\n",
       "      <td>2022-06-11 14:29:33</td>\n",
       "      <td>21</td>\n",
       "      <td>45.3167</td>\n",
       "      <td>55.2000</td>\n",
       "      <td>85.46</td>\n",
       "      <td>5.70</td>\n",
       "    </tr>\n",
       "    <tr>\n",
       "      <th>22</th>\n",
       "      <td>22</td>\n",
       "      <td>Bredasdorp</td>\n",
       "      <td>100</td>\n",
       "      <td>ZA</td>\n",
       "      <td>2022-06-11 14:25:29</td>\n",
       "      <td>25</td>\n",
       "      <td>-34.5322</td>\n",
       "      <td>20.0403</td>\n",
       "      <td>76.96</td>\n",
       "      <td>3.58</td>\n",
       "    </tr>\n",
       "    <tr>\n",
       "      <th>23</th>\n",
       "      <td>23</td>\n",
       "      <td>Ca Mau</td>\n",
       "      <td>23</td>\n",
       "      <td>VN</td>\n",
       "      <td>2022-06-11 14:29:34</td>\n",
       "      <td>86</td>\n",
       "      <td>9.1769</td>\n",
       "      <td>105.1500</td>\n",
       "      <td>80.19</td>\n",
       "      <td>4.50</td>\n",
       "    </tr>\n",
       "  </tbody>\n",
       "</table>\n",
       "</div>"
      ],
      "text/plain": [
       "    City_ID           City  Cloudiness Country                 Date  Humidity  \\\n",
       "0         0         Lumeje           6      AO  2022-06-11 14:29:27        24   \n",
       "2         2      Mathbaria          92      BD  2022-06-11 14:29:28        85   \n",
       "4         4         Kupang         100      ID  2022-06-11 14:29:28        72   \n",
       "6         6   San Patricio           5      US  2022-06-11 14:27:14        64   \n",
       "12       12   Quebradillas          86      PR  2022-06-11 14:29:31        79   \n",
       "13       13          Vaini          75      TO  2022-06-11 14:26:13        88   \n",
       "15       15  Cockburn Town          40      TC  2022-06-11 14:29:31        70   \n",
       "21       21         Beyneu           1      KZ  2022-06-11 14:29:33        21   \n",
       "22       22     Bredasdorp         100      ZA  2022-06-11 14:25:29        25   \n",
       "23       23         Ca Mau          23      VN  2022-06-11 14:29:34        86   \n",
       "\n",
       "        Lat       Lng  Max Temp  Wind Speed  \n",
       "0  -11.5500   20.7833     79.38        6.35  \n",
       "2   22.2876   89.9593     83.91       11.12  \n",
       "4  -10.1667  123.5833     78.01       14.52  \n",
       "6   28.0170  -97.5169     87.84       13.06  \n",
       "12  18.4738  -66.9385     88.23       10.00  \n",
       "13 -21.2000 -175.2000     75.36        5.75  \n",
       "15  21.4612  -71.1419     84.16       16.11  \n",
       "21  45.3167   55.2000     85.46        5.70  \n",
       "22 -34.5322   20.0403     76.96        3.58  \n",
       "23   9.1769  105.1500     80.19        4.50  "
      ]
     },
     "execution_count": 65,
     "metadata": {},
     "output_type": "execute_result"
    }
   ],
   "source": [
    "# Filter the dataset to find the cities that fit the criteria.\n",
    "preferred_cities_df = city_data_df.loc[(city_data_df[\"Max Temp\"] <= max_temp) & \\\n",
    "                                       (city_data_df[\"Max Temp\"] >= min_temp)]\n",
    "preferred_cities_df.head(10)"
   ]
  },
  {
   "cell_type": "code",
   "execution_count": 66,
   "id": "03241e56",
   "metadata": {},
   "outputs": [
    {
     "data": {
      "text/plain": [
       "City_ID       194\n",
       "City          194\n",
       "Cloudiness    194\n",
       "Country       194\n",
       "Date          194\n",
       "Humidity      194\n",
       "Lat           194\n",
       "Lng           194\n",
       "Max Temp      194\n",
       "Wind Speed    194\n",
       "dtype: int64"
      ]
     },
     "execution_count": 66,
     "metadata": {},
     "output_type": "execute_result"
    }
   ],
   "source": [
    "preferred_cities_df.count()"
   ]
  },
  {
   "cell_type": "code",
   "execution_count": 67,
   "id": "9aa6e455",
   "metadata": {},
   "outputs": [
    {
     "data": {
      "text/html": [
       "<div>\n",
       "<style scoped>\n",
       "    .dataframe tbody tr th:only-of-type {\n",
       "        vertical-align: middle;\n",
       "    }\n",
       "\n",
       "    .dataframe tbody tr th {\n",
       "        vertical-align: top;\n",
       "    }\n",
       "\n",
       "    .dataframe thead th {\n",
       "        text-align: right;\n",
       "    }\n",
       "</style>\n",
       "<table border=\"1\" class=\"dataframe\">\n",
       "  <thead>\n",
       "    <tr style=\"text-align: right;\">\n",
       "      <th></th>\n",
       "      <th>City</th>\n",
       "      <th>Country</th>\n",
       "      <th>Max Temp</th>\n",
       "      <th>Lat</th>\n",
       "      <th>Lng</th>\n",
       "      <th>Hotel Name</th>\n",
       "    </tr>\n",
       "  </thead>\n",
       "  <tbody>\n",
       "    <tr>\n",
       "      <th>0</th>\n",
       "      <td>Lumeje</td>\n",
       "      <td>AO</td>\n",
       "      <td>79.38</td>\n",
       "      <td>-11.5500</td>\n",
       "      <td>20.7833</td>\n",
       "      <td></td>\n",
       "    </tr>\n",
       "    <tr>\n",
       "      <th>2</th>\n",
       "      <td>Mathbaria</td>\n",
       "      <td>BD</td>\n",
       "      <td>83.91</td>\n",
       "      <td>22.2876</td>\n",
       "      <td>89.9593</td>\n",
       "      <td></td>\n",
       "    </tr>\n",
       "    <tr>\n",
       "      <th>4</th>\n",
       "      <td>Kupang</td>\n",
       "      <td>ID</td>\n",
       "      <td>78.01</td>\n",
       "      <td>-10.1667</td>\n",
       "      <td>123.5833</td>\n",
       "      <td></td>\n",
       "    </tr>\n",
       "    <tr>\n",
       "      <th>6</th>\n",
       "      <td>San Patricio</td>\n",
       "      <td>US</td>\n",
       "      <td>87.84</td>\n",
       "      <td>28.0170</td>\n",
       "      <td>-97.5169</td>\n",
       "      <td></td>\n",
       "    </tr>\n",
       "    <tr>\n",
       "      <th>12</th>\n",
       "      <td>Quebradillas</td>\n",
       "      <td>PR</td>\n",
       "      <td>88.23</td>\n",
       "      <td>18.4738</td>\n",
       "      <td>-66.9385</td>\n",
       "      <td></td>\n",
       "    </tr>\n",
       "    <tr>\n",
       "      <th>13</th>\n",
       "      <td>Vaini</td>\n",
       "      <td>TO</td>\n",
       "      <td>75.36</td>\n",
       "      <td>-21.2000</td>\n",
       "      <td>-175.2000</td>\n",
       "      <td></td>\n",
       "    </tr>\n",
       "    <tr>\n",
       "      <th>15</th>\n",
       "      <td>Cockburn Town</td>\n",
       "      <td>TC</td>\n",
       "      <td>84.16</td>\n",
       "      <td>21.4612</td>\n",
       "      <td>-71.1419</td>\n",
       "      <td></td>\n",
       "    </tr>\n",
       "    <tr>\n",
       "      <th>21</th>\n",
       "      <td>Beyneu</td>\n",
       "      <td>KZ</td>\n",
       "      <td>85.46</td>\n",
       "      <td>45.3167</td>\n",
       "      <td>55.2000</td>\n",
       "      <td></td>\n",
       "    </tr>\n",
       "    <tr>\n",
       "      <th>22</th>\n",
       "      <td>Bredasdorp</td>\n",
       "      <td>ZA</td>\n",
       "      <td>76.96</td>\n",
       "      <td>-34.5322</td>\n",
       "      <td>20.0403</td>\n",
       "      <td></td>\n",
       "    </tr>\n",
       "    <tr>\n",
       "      <th>23</th>\n",
       "      <td>Ca Mau</td>\n",
       "      <td>VN</td>\n",
       "      <td>80.19</td>\n",
       "      <td>9.1769</td>\n",
       "      <td>105.1500</td>\n",
       "      <td></td>\n",
       "    </tr>\n",
       "  </tbody>\n",
       "</table>\n",
       "</div>"
      ],
      "text/plain": [
       "             City Country  Max Temp      Lat       Lng Hotel Name\n",
       "0          Lumeje      AO     79.38 -11.5500   20.7833           \n",
       "2       Mathbaria      BD     83.91  22.2876   89.9593           \n",
       "4          Kupang      ID     78.01 -10.1667  123.5833           \n",
       "6    San Patricio      US     87.84  28.0170  -97.5169           \n",
       "12   Quebradillas      PR     88.23  18.4738  -66.9385           \n",
       "13          Vaini      TO     75.36 -21.2000 -175.2000           \n",
       "15  Cockburn Town      TC     84.16  21.4612  -71.1419           \n",
       "21         Beyneu      KZ     85.46  45.3167   55.2000           \n",
       "22     Bredasdorp      ZA     76.96 -34.5322   20.0403           \n",
       "23         Ca Mau      VN     80.19   9.1769  105.1500           "
      ]
     },
     "execution_count": 67,
     "metadata": {},
     "output_type": "execute_result"
    }
   ],
   "source": [
    "# Create DataFrame called hotel_df to store hotel names along with city, country, max temp, and coordinates.\n",
    "hotel_df = preferred_cities_df[[\"City\", \"Country\", \"Max Temp\", \"Lat\", \"Lng\"]].copy()\n",
    "hotel_df[\"Hotel Name\"] = \"\"\n",
    "hotel_df.head(10)"
   ]
  },
  {
   "cell_type": "code",
   "execution_count": 68,
   "id": "7df69f30",
   "metadata": {},
   "outputs": [
    {
     "data": {
      "text/html": [
       "<div>\n",
       "<style scoped>\n",
       "    .dataframe tbody tr th:only-of-type {\n",
       "        vertical-align: middle;\n",
       "    }\n",
       "\n",
       "    .dataframe tbody tr th {\n",
       "        vertical-align: top;\n",
       "    }\n",
       "\n",
       "    .dataframe thead th {\n",
       "        text-align: right;\n",
       "    }\n",
       "</style>\n",
       "<table border=\"1\" class=\"dataframe\">\n",
       "  <thead>\n",
       "    <tr style=\"text-align: right;\">\n",
       "      <th></th>\n",
       "      <th>City</th>\n",
       "      <th>Country</th>\n",
       "      <th>Max Temp</th>\n",
       "      <th>Lat</th>\n",
       "      <th>Lng</th>\n",
       "      <th>Hotel Name</th>\n",
       "    </tr>\n",
       "  </thead>\n",
       "  <tbody>\n",
       "    <tr>\n",
       "      <th>0</th>\n",
       "      <td>Lumeje</td>\n",
       "      <td>AO</td>\n",
       "      <td>79.38</td>\n",
       "      <td>-11.5500</td>\n",
       "      <td>20.7833</td>\n",
       "      <td></td>\n",
       "    </tr>\n",
       "    <tr>\n",
       "      <th>2</th>\n",
       "      <td>Mathbaria</td>\n",
       "      <td>BD</td>\n",
       "      <td>83.91</td>\n",
       "      <td>22.2876</td>\n",
       "      <td>89.9593</td>\n",
       "      <td></td>\n",
       "    </tr>\n",
       "    <tr>\n",
       "      <th>4</th>\n",
       "      <td>Kupang</td>\n",
       "      <td>ID</td>\n",
       "      <td>78.01</td>\n",
       "      <td>-10.1667</td>\n",
       "      <td>123.5833</td>\n",
       "      <td></td>\n",
       "    </tr>\n",
       "    <tr>\n",
       "      <th>6</th>\n",
       "      <td>San Patricio</td>\n",
       "      <td>US</td>\n",
       "      <td>87.84</td>\n",
       "      <td>28.0170</td>\n",
       "      <td>-97.5169</td>\n",
       "      <td></td>\n",
       "    </tr>\n",
       "    <tr>\n",
       "      <th>12</th>\n",
       "      <td>Quebradillas</td>\n",
       "      <td>PR</td>\n",
       "      <td>88.23</td>\n",
       "      <td>18.4738</td>\n",
       "      <td>-66.9385</td>\n",
       "      <td></td>\n",
       "    </tr>\n",
       "    <tr>\n",
       "      <th>...</th>\n",
       "      <td>...</td>\n",
       "      <td>...</td>\n",
       "      <td>...</td>\n",
       "      <td>...</td>\n",
       "      <td>...</td>\n",
       "      <td>...</td>\n",
       "    </tr>\n",
       "    <tr>\n",
       "      <th>556</th>\n",
       "      <td>West Wendover</td>\n",
       "      <td>US</td>\n",
       "      <td>78.01</td>\n",
       "      <td>40.7391</td>\n",
       "      <td>-114.0733</td>\n",
       "      <td></td>\n",
       "    </tr>\n",
       "    <tr>\n",
       "      <th>559</th>\n",
       "      <td>Upington</td>\n",
       "      <td>ZA</td>\n",
       "      <td>77.38</td>\n",
       "      <td>-28.4478</td>\n",
       "      <td>21.2561</td>\n",
       "      <td></td>\n",
       "    </tr>\n",
       "    <tr>\n",
       "      <th>560</th>\n",
       "      <td>Mabaruma</td>\n",
       "      <td>GY</td>\n",
       "      <td>80.64</td>\n",
       "      <td>8.2000</td>\n",
       "      <td>-59.7833</td>\n",
       "      <td></td>\n",
       "    </tr>\n",
       "    <tr>\n",
       "      <th>562</th>\n",
       "      <td>Manokwari</td>\n",
       "      <td>ID</td>\n",
       "      <td>78.62</td>\n",
       "      <td>-0.8667</td>\n",
       "      <td>134.0833</td>\n",
       "      <td></td>\n",
       "    </tr>\n",
       "    <tr>\n",
       "      <th>563</th>\n",
       "      <td>Marmarion</td>\n",
       "      <td>GR</td>\n",
       "      <td>83.73</td>\n",
       "      <td>38.0484</td>\n",
       "      <td>24.3204</td>\n",
       "      <td></td>\n",
       "    </tr>\n",
       "  </tbody>\n",
       "</table>\n",
       "<p>194 rows × 6 columns</p>\n",
       "</div>"
      ],
      "text/plain": [
       "              City Country  Max Temp      Lat       Lng Hotel Name\n",
       "0           Lumeje      AO     79.38 -11.5500   20.7833           \n",
       "2        Mathbaria      BD     83.91  22.2876   89.9593           \n",
       "4           Kupang      ID     78.01 -10.1667  123.5833           \n",
       "6     San Patricio      US     87.84  28.0170  -97.5169           \n",
       "12    Quebradillas      PR     88.23  18.4738  -66.9385           \n",
       "..             ...     ...       ...      ...       ...        ...\n",
       "556  West Wendover      US     78.01  40.7391 -114.0733           \n",
       "559       Upington      ZA     77.38 -28.4478   21.2561           \n",
       "560       Mabaruma      GY     80.64   8.2000  -59.7833           \n",
       "562      Manokwari      ID     78.62  -0.8667  134.0833           \n",
       "563      Marmarion      GR     83.73  38.0484   24.3204           \n",
       "\n",
       "[194 rows x 6 columns]"
      ]
     },
     "execution_count": 68,
     "metadata": {},
     "output_type": "execute_result"
    }
   ],
   "source": [
    " # Create DataFrame called hotel_df to store hotel names along with city, country, max temp, and coordinates.\n",
    "hotel_df = preferred_cities_df[[\"City\", \"Country\", \"Max Temp\", \"Lat\", \"Lng\"]].copy()\n",
    "hotel_df[\"Hotel Name\"] = \"\"\n",
    "hotel_df"
   ]
  },
  {
   "cell_type": "code",
   "execution_count": 74,
   "id": "4358e297",
   "metadata": {},
   "outputs": [
    {
     "name": "stdout",
     "output_type": "stream",
     "text": [
      "Hotel not found... skipping.\n",
      "Hotel not found... skipping.\n",
      "Hotel not found... skipping.\n",
      "Hotel not found... skipping.\n",
      "Hotel not found... skipping.\n",
      "Hotel not found... skipping.\n",
      "Hotel not found... skipping.\n",
      "Hotel not found... skipping.\n",
      "Hotel not found... skipping.\n",
      "Hotel not found... skipping.\n",
      "Hotel not found... skipping.\n",
      "Hotel not found... skipping.\n",
      "Hotel not found... skipping.\n"
     ]
    }
   ],
   "source": [
    "# Iterate through the DataFrame.\n",
    "for index, row in hotel_df.iterrows():\n",
    "    # Get the latitude and longitude.\n",
    "    lat = row[\"Lat\"]\n",
    "    lng = row[\"Lng\"]\n",
    "\n",
    "    # Add the latitude and longitude to location key for the params dictionary.\n",
    "    params[\"location\"] = f\"{lat},{lng}\"\n",
    "\n",
    "    # Use the search term: \"lodging\" and our latitude and longitude.\n",
    "    base_url = \"https://maps.googleapis.com/maps/api/place/nearbysearch/json\"\n",
    "    # Make request and get the JSON data from the search.\n",
    "    hotels = requests.get(base_url, params=params).json()\n",
    "    # Grab the first hotel from the results and store the name.\n",
    "    try:\n",
    "        hotel_df.loc[index, \"Hotel Name\"] = hotels[\"results\"][0][\"name\"]\n",
    "    except (IndexError):\n",
    "        print(\"Hotel not found... skipping.\")\n"
   ]
  },
  {
   "cell_type": "code",
   "execution_count": 73,
   "id": "2345627b",
   "metadata": {},
   "outputs": [],
   "source": [
    "# # Get the latitude and longitude.\n",
    "# lat = row[\"Lat\"]\n",
    "# lng = row[\"Lng\"]\n",
    "\n",
    "#     # Add the latitude and longitude to location key for the params dictionary.\n",
    "# params[\"location\"] = f\"{lat},{lng}\"\n",
    "\n",
    "#     # Use the search term: \"lodging\" and our latitude and longitude.\n",
    "# base_url = \"https://maps.googleapis.com/maps/api/place/nearbysearch/json\"\n",
    "#     # Make request and get the JSON data from the search.\n",
    "# hotels = requests.get(base_url, params=params).json()\n",
    "#     # Grab the first hotel from the results and store the name.\n",
    "# #     try:\n",
    "# #         hotel_df.loc[index, \"Hotel Name\"] = hotels[\"results\"][0][\"name\"]\n",
    "# #     except (IndexError):\n",
    "# #         print(\"Hotel not found... skipping.\")\n",
    "# len(hotels)"
   ]
  },
  {
   "cell_type": "code",
   "execution_count": null,
   "id": "50df06b7",
   "metadata": {},
   "outputs": [],
   "source": []
  },
  {
   "cell_type": "code",
   "execution_count": 83,
   "id": "79730be5",
   "metadata": {},
   "outputs": [
    {
     "data": {
      "text/html": [
       "<div>\n",
       "<style scoped>\n",
       "    .dataframe tbody tr th:only-of-type {\n",
       "        vertical-align: middle;\n",
       "    }\n",
       "\n",
       "    .dataframe tbody tr th {\n",
       "        vertical-align: top;\n",
       "    }\n",
       "\n",
       "    .dataframe thead th {\n",
       "        text-align: right;\n",
       "    }\n",
       "</style>\n",
       "<table border=\"1\" class=\"dataframe\">\n",
       "  <thead>\n",
       "    <tr style=\"text-align: right;\">\n",
       "      <th></th>\n",
       "      <th>City</th>\n",
       "      <th>Country</th>\n",
       "      <th>Max Temp</th>\n",
       "      <th>Lat</th>\n",
       "      <th>Lng</th>\n",
       "      <th>Hotel Name</th>\n",
       "    </tr>\n",
       "  </thead>\n",
       "  <tbody>\n",
       "    <tr>\n",
       "      <th>0</th>\n",
       "      <td>Lumeje</td>\n",
       "      <td>AO</td>\n",
       "      <td>79.38</td>\n",
       "      <td>-11.5500</td>\n",
       "      <td>20.7833</td>\n",
       "      <td></td>\n",
       "    </tr>\n",
       "    <tr>\n",
       "      <th>2</th>\n",
       "      <td>Mathbaria</td>\n",
       "      <td>BD</td>\n",
       "      <td>83.91</td>\n",
       "      <td>22.2876</td>\n",
       "      <td>89.9593</td>\n",
       "      <td>Shikdar Hotel</td>\n",
       "    </tr>\n",
       "    <tr>\n",
       "      <th>4</th>\n",
       "      <td>Kupang</td>\n",
       "      <td>ID</td>\n",
       "      <td>78.01</td>\n",
       "      <td>-10.1667</td>\n",
       "      <td>123.5833</td>\n",
       "      <td>Hotel On The Rock by Prasanthi</td>\n",
       "    </tr>\n",
       "    <tr>\n",
       "      <th>6</th>\n",
       "      <td>San Patricio</td>\n",
       "      <td>US</td>\n",
       "      <td>87.84</td>\n",
       "      <td>28.0170</td>\n",
       "      <td>-97.5169</td>\n",
       "      <td>Motel 6 Sinton, TX</td>\n",
       "    </tr>\n",
       "    <tr>\n",
       "      <th>12</th>\n",
       "      <td>Quebradillas</td>\n",
       "      <td>PR</td>\n",
       "      <td>88.23</td>\n",
       "      <td>18.4738</td>\n",
       "      <td>-66.9385</td>\n",
       "      <td>Villa Abby B&amp;B</td>\n",
       "    </tr>\n",
       "    <tr>\n",
       "      <th>...</th>\n",
       "      <td>...</td>\n",
       "      <td>...</td>\n",
       "      <td>...</td>\n",
       "      <td>...</td>\n",
       "      <td>...</td>\n",
       "      <td>...</td>\n",
       "    </tr>\n",
       "    <tr>\n",
       "      <th>556</th>\n",
       "      <td>West Wendover</td>\n",
       "      <td>US</td>\n",
       "      <td>78.01</td>\n",
       "      <td>40.7391</td>\n",
       "      <td>-114.0733</td>\n",
       "      <td>Motel 6 Wendover, UT</td>\n",
       "    </tr>\n",
       "    <tr>\n",
       "      <th>559</th>\n",
       "      <td>Upington</td>\n",
       "      <td>ZA</td>\n",
       "      <td>77.38</td>\n",
       "      <td>-28.4478</td>\n",
       "      <td>21.2561</td>\n",
       "      <td>River Place Manor</td>\n",
       "    </tr>\n",
       "    <tr>\n",
       "      <th>560</th>\n",
       "      <td>Mabaruma</td>\n",
       "      <td>GY</td>\n",
       "      <td>80.64</td>\n",
       "      <td>8.2000</td>\n",
       "      <td>-59.7833</td>\n",
       "      <td>Monty Brooms Guest House</td>\n",
       "    </tr>\n",
       "    <tr>\n",
       "      <th>562</th>\n",
       "      <td>Manokwari</td>\n",
       "      <td>ID</td>\n",
       "      <td>78.62</td>\n",
       "      <td>-0.8667</td>\n",
       "      <td>134.0833</td>\n",
       "      <td>Swiss Belhotel Manokwari</td>\n",
       "    </tr>\n",
       "    <tr>\n",
       "      <th>563</th>\n",
       "      <td>Marmarion</td>\n",
       "      <td>GR</td>\n",
       "      <td>83.73</td>\n",
       "      <td>38.0484</td>\n",
       "      <td>24.3204</td>\n",
       "      <td>GIKAS APARTMENTS - ΓΚΙΚΑΣ Επιπλωμένα Διαμερίσματα</td>\n",
       "    </tr>\n",
       "  </tbody>\n",
       "</table>\n",
       "<p>194 rows × 6 columns</p>\n",
       "</div>"
      ],
      "text/plain": [
       "              City Country  Max Temp      Lat       Lng  \\\n",
       "0           Lumeje      AO     79.38 -11.5500   20.7833   \n",
       "2        Mathbaria      BD     83.91  22.2876   89.9593   \n",
       "4           Kupang      ID     78.01 -10.1667  123.5833   \n",
       "6     San Patricio      US     87.84  28.0170  -97.5169   \n",
       "12    Quebradillas      PR     88.23  18.4738  -66.9385   \n",
       "..             ...     ...       ...      ...       ...   \n",
       "556  West Wendover      US     78.01  40.7391 -114.0733   \n",
       "559       Upington      ZA     77.38 -28.4478   21.2561   \n",
       "560       Mabaruma      GY     80.64   8.2000  -59.7833   \n",
       "562      Manokwari      ID     78.62  -0.8667  134.0833   \n",
       "563      Marmarion      GR     83.73  38.0484   24.3204   \n",
       "\n",
       "                                            Hotel Name  \n",
       "0                                                       \n",
       "2                                        Shikdar Hotel  \n",
       "4                       Hotel On The Rock by Prasanthi  \n",
       "6                                   Motel 6 Sinton, TX  \n",
       "12                                      Villa Abby B&B  \n",
       "..                                                 ...  \n",
       "556                               Motel 6 Wendover, UT  \n",
       "559                                  River Place Manor  \n",
       "560                           Monty Brooms Guest House  \n",
       "562                           Swiss Belhotel Manokwari  \n",
       "563  GIKAS APARTMENTS - ΓΚΙΚΑΣ Επιπλωμένα Διαμερίσματα  \n",
       "\n",
       "[194 rows x 6 columns]"
      ]
     },
     "execution_count": 83,
     "metadata": {},
     "output_type": "execute_result"
    }
   ],
   "source": [
    "hotel_df"
   ]
  },
  {
   "cell_type": "code",
   "execution_count": 78,
   "id": "0bbbf3c6",
   "metadata": {},
   "outputs": [
    {
     "data": {
      "text/plain": [
       "City          194\n",
       "Country       194\n",
       "Max Temp      194\n",
       "Lat           194\n",
       "Lng           194\n",
       "Hotel Name    194\n",
       "dtype: int64"
      ]
     },
     "execution_count": 78,
     "metadata": {},
     "output_type": "execute_result"
    }
   ],
   "source": [
    "hotel_df.count()"
   ]
  },
  {
   "cell_type": "code",
   "execution_count": 91,
   "id": "ffd58f0f",
   "metadata": {},
   "outputs": [
    {
     "data": {
      "text/plain": [
       "''"
      ]
     },
     "execution_count": 91,
     "metadata": {},
     "output_type": "execute_result"
    }
   ],
   "source": [
    "hotel_df.loc[0, \"Hotel Name\"]"
   ]
  },
  {
   "cell_type": "code",
   "execution_count": 105,
   "id": "2a8248d3",
   "metadata": {},
   "outputs": [
    {
     "data": {
      "application/vnd.jupyter.widget-view+json": {
       "model_id": "7165d57c027b49d194a86ec8919730ce",
       "version_major": 2,
       "version_minor": 0
      },
      "text/plain": [
       "Figure(layout=FigureLayout(height='420px'))"
      ]
     },
     "metadata": {},
     "output_type": "display_data"
    }
   ],
   "source": [
    "# Add a heatmap of temperature for the vacation spots.\n",
    "locations = hotel_df[[\"Lat\", \"Lng\"]]\n",
    "max_temp = hotel_df[\"Max Temp\"]\n",
    "fig = gmaps.figure(center=(30.0, 31.0), zoom_level=1.5)\n",
    "heat_layer = gmaps.heatmap_layer(locations, weights=max_temp, dissipating=False,\n",
    "             max_intensity=300, point_radius=4)\n",
    "\n",
    "fig.add_layer(heat_layer)\n",
    "# Call the figure to plot the data.\n",
    "fig"
   ]
  },
  {
   "cell_type": "code",
   "execution_count": 106,
   "id": "56ff4357",
   "metadata": {},
   "outputs": [
    {
     "data": {
      "application/vnd.jupyter.widget-view+json": {
       "model_id": "268ebfe4eb584573bdfdcaf10134bdc7",
       "version_major": 2,
       "version_minor": 0
      },
      "text/plain": [
       "Figure(layout=FigureLayout(height='420px'))"
      ]
     },
     "metadata": {},
     "output_type": "display_data"
    }
   ],
   "source": [
    "# Add a heatmap of temperature for the vacation spots and marker for each city.\n",
    "locations = hotel_df[[\"Lat\", \"Lng\"]]\n",
    "max_temp = hotel_df[\"Max Temp\"]\n",
    "fig = gmaps.figure(center=(30.0, 31.0), zoom_level=1.5)\n",
    "# heat_layer = gmaps.heatmap_layer(locations, weights=max_temp,\n",
    "#              dissipating=False, max_intensity=300, point_radius=4)\n",
    "marker_layer = gmaps.marker_layer(locations)\n",
    "# fig.add_layer(heat_layer)\n",
    "fig.add_layer(marker_layer)\n",
    "# Call the figure to plot the data.\n",
    "fig"
   ]
  },
  {
   "cell_type": "code",
   "execution_count": 107,
   "id": "aa16f799",
   "metadata": {},
   "outputs": [],
   "source": [
    "info_box_template = \"\"\"\n",
    "<dl>\n",
    "<dt>Hotel Name</dt><dd>{Hotel Name}</dd>\n",
    "<dt>City</dt><dd>{City}</dd>\n",
    "<dt>Country</dt><dd>{Country}</dd>\n",
    "<dt>Max Temp</dt><dd>{Max Temp} °F</dd>\n",
    "</dl>\n",
    "\"\"\"\n",
    "\n",
    "# Store the DataFrame Row.\n",
    "hotel_info = [info_box_template.format(**row) for index, row in hotel_df.iterrows()]"
   ]
  },
  {
   "cell_type": "code",
   "execution_count": 108,
   "id": "af752a51",
   "metadata": {},
   "outputs": [
    {
     "data": {
      "application/vnd.jupyter.widget-view+json": {
       "model_id": "4b5b08716f834eb8ae7b53f8ca4ce2e5",
       "version_major": 2,
       "version_minor": 0
      },
      "text/plain": [
       "Figure(layout=FigureLayout(height='420px'))"
      ]
     },
     "metadata": {},
     "output_type": "display_data"
    }
   ],
   "source": [
    "# Add a heatmap of temperature for the vacation spots and a pop-up marker for each city.\n",
    "locations = hotel_df[[\"Lat\", \"Lng\"]]\n",
    "max_temp = hotel_df[\"Max Temp\"]\n",
    "fig = gmaps.figure(center=(30.0, 31.0), zoom_level=1.5)\n",
    "heat_layer = gmaps.heatmap_layer(locations, weights=max_temp,dissipating=False,\n",
    "             max_intensity=300, point_radius=4)\n",
    "marker_layer = gmaps.marker_layer(locations, info_box_content=hotel_info)\n",
    "fig.add_layer(heat_layer)\n",
    "fig.add_layer(marker_layer)\n",
    "\n",
    "# Call the figure to plot the data.\n",
    "fig"
   ]
  },
  {
   "cell_type": "code",
   "execution_count": null,
   "id": "f7e6c89d",
   "metadata": {},
   "outputs": [],
   "source": []
  }
 ],
 "metadata": {
  "kernelspec": {
   "display_name": "Python 3 (ipykernel)",
   "language": "python",
   "name": "python3"
  },
  "language_info": {
   "codemirror_mode": {
    "name": "ipython",
    "version": 3
   },
   "file_extension": ".py",
   "mimetype": "text/x-python",
   "name": "python",
   "nbconvert_exporter": "python",
   "pygments_lexer": "ipython3",
   "version": "3.7.13"
  }
 },
 "nbformat": 4,
 "nbformat_minor": 5
}
